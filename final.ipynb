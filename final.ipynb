{
 "cells": [
  {
   "cell_type": "code",
   "execution_count": 53,
   "metadata": {},
   "outputs": [
    {
     "name": "stdout",
     "output_type": "stream",
     "text": [
      "1999\n"
     ]
    }
   ],
   "source": [
    "import json\n",
    "from datetime import datetime, timezone\n",
    "\n",
    "with open('./newOutput.json','r') as f:\n",
    "  data = json.load(f)\n",
    "\n",
    "print(len(data))"
   ]
  },
  {
   "cell_type": "code",
   "execution_count": 54,
   "metadata": {},
   "outputs": [],
   "source": [
    "for i in data:\n",
    "    \n",
    "  timestamp = datetime.fromisoformat(i['post_timestamp'])\n",
    "\n",
    "  hour = timestamp.hour\n",
    "  if 0 <= hour < 6:\n",
    "      time_of_day = 0\n",
    "  elif 6 <= hour < 12:\n",
    "      time_of_day = 1\n",
    "  elif 12 <= hour < 18:\n",
    "      time_of_day = 2\n",
    "  elif 18 <= hour < 24:\n",
    "      time_of_day = 3\n",
    "\n",
    "  i['time_of_day'] = time_of_day\n",
    "  i['day_of_week'] = timestamp.weekday()\n",
    "  i['engagement'] = round((i['likes_count'] + i['comments']) / i['video_view_count'], 2)\n"
   ]
  },
  {
   "cell_type": "code",
   "execution_count": 55,
   "metadata": {},
   "outputs": [
    {
     "name": "stdout",
     "output_type": "stream",
     "text": [
      "[{'post_timestamp': '2024-02-15 20:00:31', 'likes_count': 89956, 'video_view_count': 1162190, 'comments': 460, 'numHashtags': False, 'numTaggedUsers': True, 'sponsored': False, 'time_of_day': 3, 'day_of_week': 3, 'engagement': 1}, {'post_timestamp': '2024-03-09 14:00:00', 'likes_count': 206267, 'video_view_count': 1066268, 'comments': 604, 'numHashtags': False, 'numTaggedUsers': True, 'sponsored': False, 'time_of_day': 2, 'day_of_week': 5, 'engagement': 1}]\n"
     ]
    }
   ],
   "source": [
    "# Extract engagement rates\n",
    "engagement_rates = [item['engagement'] for item in data]\n",
    "\n",
    "# Normalize engagement rates\n",
    "min_engagement = min(engagement_rates)\n",
    "max_engagement = max(engagement_rates)\n",
    "normalized_engagement = [round((item['engagement'] - min_engagement) / (max_engagement - min_engagement), 2) for item in data]\n",
    "\n",
    "# Update the 'engagement' values in the original dictionaries\n",
    "for i, item in enumerate(data):\n",
    "    if normalized_engagement[i] <= 0.33:\n",
    "        item['engagement'] = 1\n",
    "    elif 0.33 < normalized_engagement[i] <= 0.66:\n",
    "        item['engagement'] = 2\n",
    "    else:\n",
    "        item['engagement'] = 3\n",
    "\n",
    "print(data[0:2])"
   ]
  },
  {
   "cell_type": "code",
   "execution_count": 56,
   "metadata": {},
   "outputs": [
    {
     "name": "stdout",
     "output_type": "stream",
     "text": [
      "Accuracy: 0.815\n"
     ]
    }
   ],
   "source": [
    "import json\n",
    "import numpy as np\n",
    "from sklearn.model_selection import train_test_split\n",
    "from sklearn.naive_bayes import CategoricalNB\n",
    "from sklearn.metrics import accuracy_score\n",
    "\n",
    "\n",
    "# Extract features and target variable\n",
    "X = np.array([[item['time_of_day'], item['day_of_week']] for item in data])\n",
    "y = np.array([item['engagement'] for item in data])\n",
    "\n",
    "# Split the data into training and testing sets\n",
    "X_train, X_test, y_train, y_test = train_test_split(X, y, test_size=0.1, random_state=32)  # 80% training, 20% testing\n",
    "\n",
    "# Train the Naive Bayes classifier\n",
    "clf = CategoricalNB()\n",
    "clf.fit(X_train, y_train)\n",
    "\n",
    "# Make predictions on the testing set\n",
    "y_pred = clf.predict(X_test)\n",
    "\n",
    "# Calculate accuracy\n",
    "accuracy = accuracy_score(y_test, y_pred)\n",
    "print(\"Accuracy:\", accuracy)\n"
   ]
  }
 ],
 "metadata": {
  "kernelspec": {
   "display_name": "Python 3",
   "language": "python",
   "name": "python3"
  },
  "language_info": {
   "codemirror_mode": {
    "name": "ipython",
    "version": 3
   },
   "file_extension": ".py",
   "mimetype": "text/x-python",
   "name": "python",
   "nbconvert_exporter": "python",
   "pygments_lexer": "ipython3",
   "version": "3.11.1"
  }
 },
 "nbformat": 4,
 "nbformat_minor": 2
}
